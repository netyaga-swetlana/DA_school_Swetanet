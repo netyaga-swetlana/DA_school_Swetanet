{
 "cells": [
  {
   "cell_type": "markdown",
   "metadata": {
    "id": "pDrecLU-4QjS"
   },
   "source": [
    "# Практика"
   ]
  },
  {
   "cell_type": "markdown",
   "metadata": {
    "id": "gUvTNDlMaV-a"
   },
   "source": [
    "## Определение вероятности. События\n",
    "\n",
    "Требуется сгенерировать необходимые выборки и произвести по ним расчеты"
   ]
  },
  {
   "cell_type": "markdown",
   "metadata": {
    "id": "5V70InEBTgup"
   },
   "source": [
    "### Задача 1\n",
    "Брошено две монеты. Найти вероятность того, что монеты выпали разными сторонами"
   ]
  },
  {
   "cell_type": "code",
   "execution_count": 44,
   "metadata": {
    "id": "88Iw-SL3jYQV"
   },
   "outputs": [
    {
     "data": {
      "text/plain": [
       "0.4982111111111111"
      ]
     },
     "execution_count": 44,
     "metadata": {},
     "output_type": "execute_result"
    }
   ],
   "source": [
    "import numpy as np\n",
    "import pandas as pd\n",
    "from random import seed, randint, choice, choices\n",
    "N=90000\n",
    "c1=np.random.randint(0,2, size=N)\n",
    "c2=np.random.randint(0,2, size=N)\n",
    "casses=pd.DataFrame(zip(c1,c2),columns=['Coin1','Coin2'])\n",
    "p=casses[casses['Coin1'] != casses['Coin2'] ].shape[0]/N\n",
    "p"
   ]
  },
  {
   "cell_type": "markdown",
   "metadata": {
    "id": "t0XOMos2Tl0e"
   },
   "source": [
    "### Задача 2\n",
    "Брошено три монеты. Описать множество всех элементарных событий. Найти вероятности следующих событий:\n",
    "\n",
    "\n",
    "1.   A = {не выпало ни одного герба}\n",
    "2.   B = {выпало четное число гербов}\n",
    "3.   C = {на третьей монете выпал герб}\n"
   ]
  },
  {
   "cell_type": "code",
   "execution_count": 2,
   "metadata": {
    "id": "o7NjAE9uUo-L"
   },
   "outputs": [
    {
     "name": "stdout",
     "output_type": "stream",
     "text": [
      "0.1131 0.33893 0.45105\n"
     ]
    }
   ],
   "source": [
    "c1=np.random.randint (0,2, size=N)\n",
    "c2=np.random.randint (0,2, size=N)\n",
    "c3=np.random.randint (0,2, size=N)\n",
    "N=100000\n",
    "cases=pd.DataFrame(zip(c1,c2,c3),columns=['Coin1','Coin2','Coin3'])\n",
    "cases.head(5)\n",
    "p1=cases[cases['Coin1']+cases['Coin2']+cases['Coin3'] == 0].shape[0]/N\n",
    "p2=cases[cases['Coin1']+cases['Coin2']+cases['Coin3'] == 2].shape[0]/N\n",
    "p3=cases[cases['Coin3'] ==1].shape[0]/N\n",
    "print(p1,p2,p3)"
   ]
  },
  {
   "cell_type": "markdown",
   "metadata": {},
   "source": [
    "Предлагается также решить задачи: \n",
    "\n",
    "### Задача 3\n",
    "Из двух претендентов E и L на ответственную должность три члена комиссии должны отобрать одного. Каждый член комиссии должен указать либо одного достойного, либо забраковать обоих. Претендент считается выбранным, если он был признана достойным хотя бы двумя членами комиссии.\n",
    "Найти вероятность событий:\n",
    "\n",
    "A = {рекомендован L}, B = {рекомендован E}\n"
   ]
  },
  {
   "cell_type": "code",
   "execution_count": 13,
   "metadata": {},
   "outputs": [
    {
     "name": "stdout",
     "output_type": "stream",
     "text": [
      "0.259025 0.259135\n"
     ]
    }
   ],
   "source": [
    "#0-не выбран ни один претендент, 1 - рекомендован L, 10- рекомендован E\n",
    "c1=np.random.choice ([0,1,10], size=N)\n",
    "c2=np.random.choice ([0,1,10], size=N)\n",
    "c3=np.random.choice ([0,1,10], size=N)\n",
    "N=1000000\n",
    "cases=pd.DataFrame(zip(c1,c2,c3),columns=['Coin1','Coin2','Coin3'])\n",
    "cases.head(5)\n",
    "a=cases[(cases['Coin1']+cases['Coin2']+cases['Coin3'] ==2) | (cases['Coin1']+cases['Coin2']+cases['Coin3'] ==12) | (cases['Coin1']+cases['Coin2']+cases['Coin3'] ==3)].shape[0]/N\n",
    "b=cases[cases['Coin1']+cases['Coin2']+cases['Coin3'] >= 20].shape[0]/N\n",
    "print(a,b)"
   ]
  },
  {
   "cell_type": "markdown",
   "metadata": {
    "id": "peM38mVfYa5B"
   },
   "source": [
    "### Задача 4\n",
    "Брошено две игральных кости. Описать множество элементарных событий. Найти вероятности событий:\n",
    "\n",
    "A = {вышло две \"шестерки\"}\n",
    "\n",
    "B = {сумма выпавших очков не меньше 11}\n",
    "\n",
    "C = {не выпала ни одна \"шестерка\"}"
   ]
  },
  {
   "cell_type": "code",
   "execution_count": 6,
   "metadata": {},
   "outputs": [
    {
     "name": "stdout",
     "output_type": "stream",
     "text": [
      "0.02717 0.08302 0.69308\n"
     ]
    }
   ],
   "source": [
    "c1=np.random.randint (1,7, size=N)\n",
    "c2=np.random.randint (1,7, size=N)\n",
    "\n",
    "N=100000\n",
    "cases=pd.DataFrame(zip(c1,c2),columns=['Coin1','Coin2'])\n",
    "cases.head(5)\n",
    "p1=cases[cases['Coin1']+cases['Coin2'] == 12].shape[0]/N\n",
    "p2=cases[cases['Coin1']+cases['Coin2']>= 11].shape[0]/N\n",
    "p3=cases[(cases['Coin1'] !=6) & (cases['Coin2'] !=6)].shape[0]/N\n",
    "print(p1,p2,p3)"
   ]
  },
  {
   "cell_type": "markdown",
   "metadata": {
    "id": "f-Bi0p8haclB"
   },
   "source": [
    "## Вероятность суммы событий"
   ]
  },
  {
   "cell_type": "markdown",
   "metadata": {
    "id": "g7A7QlvGTnwZ"
   },
   "source": [
    "### Задача 5\n",
    "Брошены две игральные кости. Найти вероятность события D = {выпала хотя бы одна шестёрка}\n"
   ]
  },
  {
   "cell_type": "code",
   "execution_count": 9,
   "metadata": {
    "id": "vjtTJN-kUp9D"
   },
   "outputs": [
    {
     "name": "stdout",
     "output_type": "stream",
     "text": [
      "d= 0.30398\n"
     ]
    }
   ],
   "source": [
    "c1=np.random.randint (1,7, size=N)\n",
    "c2=np.random.randint (1,7, size=N)\n",
    "\n",
    "N=100000\n",
    "cases=pd.DataFrame(zip(c1,c2),columns=['Coin1','Coin2'])\n",
    "cases.head(5)\n",
    "\n",
    "d=cases[(cases['Coin1'] ==6) | (cases['Coin2'] ==6)].shape[0]/N\n",
    "print('d=', d)"
   ]
  },
  {
   "cell_type": "markdown",
   "metadata": {
    "id": "R1bYSzQQbC6I"
   },
   "source": [
    "Предлагается также решить задачи: \n",
    "\n",
    "### Задача 6\n",
    "В телефонном номере три последние цифры стерлись. Считая, что все возможные значения стершихся цифр равновероятны, найти вероятность событий:\n",
    "\n",
    "A = {Стерлись различные цифры},\n",
    "\n",
    "B = {Стерлись одинаковые цифры},\n",
    "\n",
    "C = {Среди стершихся цифр хотя бы две совпадают},\n",
    "\n",
    "D = {Среди стершихся цифр хотя бы две различны}\n"
   ]
  },
  {
   "cell_type": "code",
   "execution_count": 11,
   "metadata": {},
   "outputs": [
    {
     "name": "stdout",
     "output_type": "stream",
     "text": [
      "a= 0.71978 b= 0.00981 c= 0.28022 d= 0.99019\n"
     ]
    }
   ],
   "source": [
    "c1=np.random.randint (0,10, size=N)\n",
    "c2=np.random.randint (0,10, size=N)\n",
    "c3=np.random.randint (0,10, size=N)\n",
    "N=100000\n",
    "cases=pd.DataFrame(zip(c1,c2,c3),columns=['Coin1','Coin2','Coin3'])\n",
    "a=cases[(cases['Coin1']!=cases['Coin2']) & (cases['Coin1']!=cases['Coin3']) & (cases['Coin2']!=cases['Coin3'])].shape[0]/N\n",
    "b=cases[(cases['Coin1']==cases['Coin2']) & (cases['Coin1']==cases['Coin3'])].shape[0]/N\n",
    "c=cases[(cases['Coin1']==cases['Coin2']) | (cases['Coin1']==cases['Coin3']) | (cases['Coin2']==cases['Coin3'])].shape[0]/N\n",
    "d=cases[(cases['Coin1']!=cases['Coin2']) | (cases['Coin1']!=cases['Coin3']) | (cases['Coin2']!=cases['Coin3'])].shape[0]/N\n",
    "print('a=', a,'b=', b, 'c=', c, 'd=', d)"
   ]
  },
  {
   "cell_type": "markdown",
   "metadata": {
    "id": "RnugkR8BalK_"
   },
   "source": [
    "## Случайные величины"
   ]
  },
  {
   "cell_type": "markdown",
   "metadata": {
    "id": "yLoZDZ17UVsp"
   },
   "source": [
    "### Задача 7\n",
    "В лотерее имеется 10 билетов, из которых один выигрышный. Размер выигрыша 10 ден. ед.; стоимость билета 1 ден ед. Найти закон распределения случайной величины X, равной чистому выигрышу участника лотереи, который вытаскивает билет первым."
   ]
  },
  {
   "cell_type": "code",
   "execution_count": 30,
   "metadata": {
    "id": "oNk432sKUqzT"
   },
   "outputs": [
    {
     "data": {
      "text/plain": [
       "-1.0    0.8966\n",
       " 9.0    0.1034\n",
       "Name: profit, dtype: float64"
      ]
     },
     "execution_count": 30,
     "metadata": {},
     "output_type": "execute_result"
    }
   ],
   "source": [
    "tickets=np.zeros(10)#lose\n",
    "tickets[0]=1#win\n",
    "N=10000\n",
    "c1=np.random.choice(tickets, size = N)\n",
    "cases=pd.DataFrame(c1, columns=[\"ticket_choice\"])\n",
    "cases[\"profit\"] = cases.ticket_choice*10 - 1\n",
    "cases[\"profit\"].value_counts(normalize=True) # ряд распределения случ величины"
   ]
  },
  {
   "cell_type": "markdown",
   "metadata": {
    "id": "U-NK9liSbpvb"
   },
   "source": [
    "Предлагается также решить задачу: \n",
    "\n",
    "### Задача 8\n",
    "Брошены две игральные кости. Найти закон распределения случайной величины $X$, равной сумме выпавших очков. Найти вероятности событий ${X <= 4}$, ${X > 4}$"
   ]
  },
  {
   "cell_type": "code",
   "execution_count": 42,
   "metadata": {},
   "outputs": [
    {
     "name": "stdout",
     "output_type": "stream",
     "text": [
      "2     0.0311\n",
      "3     0.0570\n",
      "4     0.0833\n",
      "5     0.1092\n",
      "6     0.1438\n",
      "7     0.1601\n",
      "8     0.1348\n",
      "9     0.1104\n",
      "10    0.0820\n",
      "11    0.0572\n",
      "12    0.0311\n",
      "Name: Sum, dtype: float64\n",
      "P(X<=4) = 0.1714 P(X>4) = 0.8286\n"
     ]
    },
    {
     "data": {
      "image/png": "[encoded data removed]",
      "text/plain": [
       "<Figure size 432x288 with 1 Axes>"
      ]
     },
     "metadata": {
      "needs_background": "light"
     },
     "output_type": "display_data"
    }
   ],
   "source": [
    "points=[1,2,3,4,5,6]\n",
    "N=10000\n",
    "c1 = np.random.choice(points, size=N)\n",
    "c2 = np.random.choice(points, size=N)\n",
    "cases = pd.DataFrame(zip(c1,c2), columns=[\"First\", \"Second\"])\n",
    "cases[\"Sum\"] = cases.First + cases.Second\n",
    "vc = cases[\"Sum\"].value_counts(normalize = True).sort_index()\n",
    "print(vc)\n",
    "vc.plot()\n",
    "p1 = cases[cases.Sum <= 4].shape[0]/N\n",
    "p2 = cases[cases.Sum > 4].shape[0]/N\n",
    "print(\"P(X<=4) = \" + str(p1), \"P(X>4) = \" + str(p2))"
   ]
  },
  {
   "cell_type": "markdown",
   "metadata": {
    "id": "shgW4D83awjK"
   },
   "source": [
    "## Условные вероятности"
   ]
  },
  {
   "cell_type": "markdown",
   "metadata": {
    "id": "Fbu1RFZwWZrk"
   },
   "source": [
    "### Задача 9\n",
    "Из колоды (36 карт) вынимают последовательно без возвращения две карты. Найти вероятность того, что первой картой была шестерка, а второй — семерка. Найти условную вероятность того же события при условии, что обе карты бубновой масти.\n"
   ]
  },
  {
   "cell_type": "code",
   "execution_count": 76,
   "metadata": {
    "id": "037o56awW9-E"
   },
   "outputs": [
    {
     "name": "stdout",
     "output_type": "stream",
     "text": [
      "0.0123 0.0009\n"
     ]
    }
   ],
   "source": [
    "cards=[\"6\", \"7\", \"8\", \"9\", \"10\", \"B\", \"Q\", \"K\", \"A\"]\n",
    "all_cards = []\n",
    "for elem in cards:\n",
    "    for mast in [\"1\", \"2\", \"3\", \"4\"]: #червы,буби,крести,пики\n",
    "        all_cards.append(elem+mast)\n",
    "N=10000\n",
    "c1 = np.random.choice(all_cards, size = N)\n",
    "cases = pd.DataFrame(c1, columns = [\"First\"])\n",
    "def getSecondCard(first):\n",
    "    other_card = all_cards.copy()\n",
    "    other_card.remove(first)\n",
    "    return choice(other_card)\n",
    "# print(getSecondCard(\"A1\"))\n",
    "cases[\"Second\"] = cases[\"First\"].map(lambda x: getSecondCard(x))\n",
    "cases.head()\n",
    "p2 = cases[(cases[\"First\"] == \"62\") & (cases[\"Second\"] == \"72\")].shape[0]/N\n",
    "p1 = cases[(cases[\"First\"].str[0] == \"6\") & (cases[\"Second\"].str[0] == \"7\")].shape[0]/N\n",
    "print(p1, p2)"
   ]
  },
  {
   "cell_type": "markdown",
   "metadata": {
    "id": "hNVxtaz5c57b"
   },
   "source": [
    "Предлагается также решить задачу: \n",
    "\n",
    "### Задача 10\n",
    "Из урны, содержащей два белых и три черных шара, последовательно извлекают два шара; вынутые шары не возвращаются. Если первый шар оказался черным, то перед вторым извлечением в урну добавляют белый шар. В противном случае состав оставшихся шаров не меняют. Найти вероятности событий:\n",
    "\n",
    "$A$ = {извлечены два белых шара},\n",
    "\n",
    "$B$ = {извлечены два черных шара}\n",
    "\n",
    "Указание. Пусть событие $C_1$ = {первый шар белый}, событие $C_2$ = {второй шар белый}. Тогда $A = C_1C_2$, $B = \\overline C_1 \\overline C_2$ "
   ]
  },
  {
   "cell_type": "code",
   "execution_count": 73,
   "metadata": {
    "id": "WSLnhk2sdBt_"
   },
   "outputs": [
    {
     "name": "stdout",
     "output_type": "stream",
     "text": [
      "A= 0.0952 B= 0.2982\n"
     ]
    }
   ],
   "source": [
    "balls=[\"W\", \"W\", \"B\", \"B\", \"B\"]\n",
    "\n",
    "N=10000\n",
    "c1 = np.random.choice(balls, size = N)\n",
    "cases = pd.DataFrame(c1, columns = [\"First\"])\n",
    "\n",
    "def getSecondBall(first):\n",
    "    other_balls = balls.copy()\n",
    "    other_balls.remove(first)\n",
    "    if cases.first == \"B\":\n",
    "        other_balls.append(\"W\")\n",
    "    return choice(other_balls)\n",
    "\n",
    "#print(getSecondBall(\"W\"))\n",
    "cases[\"Second\"] = cases[\"First\"].map(lambda x: getSecondBall(x))\n",
    "cases.head()\n",
    "A = cases[(cases[\"First\"] == \"W\") & (cases[\"Second\"] == \"W\")].shape[0]/N\n",
    "B = cases[(cases[\"First\"] == \"B\") & (cases[\"Second\"] == \"B\")].shape[0]/N\n",
    "print ('A=',A,'B=',B)"
   ]
  }
 ],
 "metadata": {
  "colab": {
   "collapsed_sections": [],
   "name": "Практика к занятию 11.ipynb",
   "provenance": []
  },
  "kernelspec": {
   "display_name": "Python 3",
   "language": "python",
   "name": "python3"
  },
  "language_info": {
   "codemirror_mode": {
    "name": "ipython",
    "version": 3
   },
   "file_extension": ".py",
   "mimetype": "text/x-python",
   "name": "python",
   "nbconvert_exporter": "python",
   "pygments_lexer": "ipython3",
   "version": "3.7.0"
  }
 },
 "nbformat": 4,
 "nbformat_minor": 1
}
